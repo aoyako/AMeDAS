{
 "cells": [
  {
   "cell_type": "code",
   "execution_count": 13,
   "metadata": {},
   "outputs": [],
   "source": [
    "import pandas as pd\n",
    "import numpy as np"
   ]
  },
  {
   "cell_type": "code",
   "execution_count": 14,
   "metadata": {},
   "outputs": [],
   "source": [
    "stations = [\n",
    "    \"47409\",\n",
    "    \"47646\",\n",
    "    \"47807\",\n",
    "    \"47759\",\n",
    "    \"47893\",\n",
    "    \"47637\",\n",
    "    \"47576\",\n",
    "]"
   ]
  },
  {
   "cell_type": "code",
   "execution_count": 15,
   "metadata": {},
   "outputs": [],
   "source": [
    "for s in stations:\n",
    "    weather = pd.read_csv(\"s_\" + s + \".csv\")\n",
    "    # rad = pd.read_csv(s + \"_rad.csv\")\n",
    "    weather = weather[[\"日\", \"気圧(hPa) - 現地 - 平均\", \"気圧(hPa) - 海面 - 平均\", \"降水量(mm) - 合計\", \"気温(℃) - 平均\", \"湿度(％) - 平均\", \"風向・風速(m/s) - 平均 風速\", \"month\", \"year\"]]\n",
    "    weather.columns = [\"day\", \"p_sfc\", \"p_msl\", \"rainfall_mm\", \"temp_avg\", \"rh\", \"wind_speed_avg\", \"month\", \"year\"]\n",
    "    for c in weather.columns:\n",
    "        try:\n",
    "            if c in [\"month\", \"year\", \"day\"]:\n",
    "                continue\n",
    "            weather[c] = weather[c].astype(\"str\").str.replace(')', '')\n",
    "            weather[c] = weather[c].astype(\"str\").str.replace('×', '')\n",
    "            weather[c] = weather[c].astype(\"str\").str.replace('--', '')\n",
    "            weather[c] = weather[c].astype(\"str\").str.replace(']', '')\n",
    "            weather[c] = weather[c].astype(\"str\").str.replace(' ', '')\n",
    "            weather[c] = weather[c].replace('', 0)\n",
    "            weather[c] = weather[c].astype(\"float\")\n",
    "        except Exception as e:\n",
    "            print(s, c, e)\n",
    "    # rad.columns = [\"solar_rad_avg\", \"month\", \"year\", \"day\"]\n",
    "    # rad[\"solar_rad_avg\"] = rad[\"solar_rad_avg\"] * 1_000_000 * 0.01 / (60*60*24)\n",
    "    # mgs = weather.merge(rad, left_on=[\"year\", \"month\", \"day\"], right_on=[\n",
    "                    #  \"year\", \"month\", \"day\"])\n",
    "\n",
    "    # mgs.to_csv(f\"{s}.csv\", index=False)\n",
    "    weather.to_csv(f\"{s}.csv\", index=False)\n"
   ]
  }
 ],
 "metadata": {
  "kernelspec": {
   "display_name": "Python 3",
   "language": "python",
   "name": "python3"
  },
  "language_info": {
   "codemirror_mode": {
    "name": "ipython",
    "version": 3
   },
   "file_extension": ".py",
   "mimetype": "text/x-python",
   "name": "python",
   "nbconvert_exporter": "python",
   "pygments_lexer": "ipython3",
   "version": "3.11.3"
  },
  "orig_nbformat": 4
 },
 "nbformat": 4,
 "nbformat_minor": 2
}
